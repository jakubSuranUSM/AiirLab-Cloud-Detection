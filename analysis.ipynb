{
 "cells": [
  {
   "cell_type": "markdown",
   "metadata": {},
   "source": [
    "# Cloud-Net analysis\n",
    "This notebook provides analysis of the Cloud-Net model results"
   ]
  },
  {
   "cell_type": "code",
   "execution_count": 1,
   "metadata": {},
   "outputs": [],
   "source": [
    "import pandas as pd\n",
    "import os\n",
    "from PIL import Image\n",
    "from tqdm import tqdm"
   ]
  },
  {
   "cell_type": "code",
   "execution_count": 2,
   "metadata": {},
   "outputs": [],
   "source": [
    "# put results in more readable format\n",
    "df = pd.read_csv('metrics.csv')\n",
    "\n",
    "df = df[['Scene ID','Threshold','Precision','Recall','F-1','Accuracy','Jaccard Index']]\n",
    "df['Precision'] = (df['Precision'] * 100).round(4)\n",
    "df['Recall'] = (df['Recall'] * 100).round(4)\n",
    "df['F-1'] = (df['F-1'] * 100).round(4)\n",
    "df['Jaccard Index'] = (df['Jaccard Index'] * 100).round(4)\n",
    "df['Accuracy'] = (df['Accuracy'] * 100).round(4)\n",
    "df['Threshold'] = df['Threshold'].round(6)\n",
    "\n",
    "df.to_csv('metrics.tsv', index=False, sep='\\t')"
   ]
  },
  {
   "cell_type": "markdown",
   "metadata": {},
   "source": [
    "Average results:"
   ]
  },
  {
   "cell_type": "code",
   "execution_count": 3,
   "metadata": {},
   "outputs": [
    {
     "name": "stdout",
     "output_type": "stream",
     "text": [
      "Average metrics:\n",
      "Threshold         0.047059\n",
      "Precision        75.503761\n",
      "Recall           80.843288\n",
      "F-1              74.632960\n",
      "Accuracy         93.003004\n",
      "Jaccard Index    67.553805\n",
      "dtype: float64\n"
     ]
    }
   ],
   "source": [
    "avg_metrics = df.mean(numeric_only=True)\n",
    "print(\"Average metrics:\")\n",
    "print(avg_metrics)"
   ]
  },
  {
   "cell_type": "markdown",
   "metadata": {},
   "source": [
    "Get the worst results"
   ]
  },
  {
   "cell_type": "code",
   "execution_count": 4,
   "metadata": {},
   "outputs": [
    {
     "name": "stdout",
     "output_type": "stream",
     "text": [
      "Results with minimal F1:\n",
      "                  Scene ID  Threshold  Precision  Recall  F-1  Accuracy  \\\n",
      "24   LC80980762014216LGN00   0.047059        0.0     0.0  0.0   99.9989   \n",
      "27   LC81660432014020LGN00   0.047059        0.0     0.0  0.0   99.6741   \n",
      "36   LC81460162014168LGN00   0.047059        0.0     0.0  0.0   97.3611   \n",
      "50   LC80180082014215LGN00   0.047059        0.0     0.0  0.0   99.4191   \n",
      "58   LC80420082013220LGN00   0.047059        0.0     0.0  0.0   99.6403   \n",
      "60   LC80530022014156LGN00   0.047059        0.0     0.0  0.0   97.3932   \n",
      "97   LC81750432013144LGN00   0.047059        0.0     0.0  0.0   77.7231   \n",
      "101  LC81030162014107LGN00   0.047059        0.0     0.0  0.0   99.9096   \n",
      "\n",
      "     Jaccard Index  \n",
      "24             0.0  \n",
      "27             0.0  \n",
      "36             0.0  \n",
      "50             0.0  \n",
      "58             0.0  \n",
      "60             0.0  \n",
      "97             0.0  \n",
      "101            0.0  \n",
      "Results with minimal Accuracy:\n",
      "                 Scene ID  Threshold  Precision   Recall      F-1  Accuracy  \\\n",
      "99  LC81321192014054LGN00   0.047059    20.0412  99.9341  33.3868   26.9267   \n",
      "\n",
      "    Jaccard Index  \n",
      "99        20.0385  \n"
     ]
    }
   ],
   "source": [
    "df = pd.read_csv('metrics.tsv', sep='\\t')\n",
    "min_f1 = df['F-1'].min()\n",
    "min_accuracy = df['Accuracy'].min()\n",
    "\n",
    "min_f1_results = df[df['F-1'] == min_f1]\n",
    "min_accuracy_results = df[df['Accuracy'] == min_accuracy]\n",
    "\n",
    "print(\"Results with minimal F1:\")\n",
    "print(min_f1_results)\n",
    "\n",
    "print(\"Results with minimal Accuracy:\")\n",
    "print(min_accuracy_results)"
   ]
  },
  {
   "cell_type": "markdown",
   "metadata": {},
   "source": [
    "Get the best results"
   ]
  },
  {
   "cell_type": "code",
   "execution_count": 5,
   "metadata": {},
   "outputs": [
    {
     "name": "stdout",
     "output_type": "stream",
     "text": [
      "Results with maximal F1:\n",
      "                                    Scene ID  Threshold  Precision   Recall  \\\n",
      "78  LC08_L1TP_066014_20160520_20170223_01_T1   0.047059     99.956  99.9995   \n",
      "\n",
      "        F-1  Accuracy  Jaccard Index  \n",
      "78  99.9777   99.9754        99.9555  \n",
      "Results with maximal Accuracy:\n",
      "                 Scene ID  Threshold  Precision  Recall  F-1  Accuracy  \\\n",
      "24  LC80980762014216LGN00   0.047059        0.0     0.0  0.0   99.9989   \n",
      "\n",
      "    Jaccard Index  \n",
      "24            0.0  \n"
     ]
    }
   ],
   "source": [
    "max_f1 = df['F-1'].max()\n",
    "max_accuracy = df['Accuracy'].max()\n",
    "\n",
    "max_f1_results = df[df['F-1'] == max_f1]\n",
    "max_accuracy_results = df[df['Accuracy'] == max_accuracy]\n",
    "\n",
    "print(\"Results with maximal F1:\")\n",
    "print(max_f1_results)\n",
    "\n",
    "print(\"Results with maximal Accuracy:\")\n",
    "print(max_accuracy_results)"
   ]
  },
  {
   "cell_type": "markdown",
   "metadata": {},
   "source": [
    "Sort scenes by f1"
   ]
  },
  {
   "cell_type": "code",
   "execution_count": 6,
   "metadata": {},
   "outputs": [
    {
     "data": {
      "text/html": [
       "<div>\n",
       "<style scoped>\n",
       "    .dataframe tbody tr th:only-of-type {\n",
       "        vertical-align: middle;\n",
       "    }\n",
       "\n",
       "    .dataframe tbody tr th {\n",
       "        vertical-align: top;\n",
       "    }\n",
       "\n",
       "    .dataframe thead th {\n",
       "        text-align: right;\n",
       "    }\n",
       "</style>\n",
       "<table border=\"1\" class=\"dataframe\">\n",
       "  <thead>\n",
       "    <tr style=\"text-align: right;\">\n",
       "      <th></th>\n",
       "      <th>Scene ID</th>\n",
       "      <th>F-1</th>\n",
       "      <th>Accuracy</th>\n",
       "    </tr>\n",
       "  </thead>\n",
       "  <tbody>\n",
       "    <tr>\n",
       "      <th>0</th>\n",
       "      <td>LC08_L1TP_066014_20160520_20170223_01_T1</td>\n",
       "      <td>99.9777</td>\n",
       "      <td>99.9754</td>\n",
       "    </tr>\n",
       "    <tr>\n",
       "      <th>1</th>\n",
       "      <td>LC81510262014139LGN00</td>\n",
       "      <td>99.9735</td>\n",
       "      <td>99.9641</td>\n",
       "    </tr>\n",
       "    <tr>\n",
       "      <th>2</th>\n",
       "      <td>LC81220422014096LGN00</td>\n",
       "      <td>99.9621</td>\n",
       "      <td>99.9485</td>\n",
       "    </tr>\n",
       "    <tr>\n",
       "      <th>3</th>\n",
       "      <td>LC80290292014132LGN00</td>\n",
       "      <td>99.9578</td>\n",
       "      <td>99.9411</td>\n",
       "    </tr>\n",
       "    <tr>\n",
       "      <th>4</th>\n",
       "      <td>LC80170312013157LGN00</td>\n",
       "      <td>99.9574</td>\n",
       "      <td>99.9405</td>\n",
       "    </tr>\n",
       "    <tr>\n",
       "      <th>...</th>\n",
       "      <td>...</td>\n",
       "      <td>...</td>\n",
       "      <td>...</td>\n",
       "    </tr>\n",
       "    <tr>\n",
       "      <th>111</th>\n",
       "      <td>LC81460162014168LGN00</td>\n",
       "      <td>0.0000</td>\n",
       "      <td>97.3611</td>\n",
       "    </tr>\n",
       "    <tr>\n",
       "      <th>112</th>\n",
       "      <td>LC80180082014215LGN00</td>\n",
       "      <td>0.0000</td>\n",
       "      <td>99.4191</td>\n",
       "    </tr>\n",
       "    <tr>\n",
       "      <th>113</th>\n",
       "      <td>LC80530022014156LGN00</td>\n",
       "      <td>0.0000</td>\n",
       "      <td>97.3932</td>\n",
       "    </tr>\n",
       "    <tr>\n",
       "      <th>114</th>\n",
       "      <td>LC81030162014107LGN00</td>\n",
       "      <td>0.0000</td>\n",
       "      <td>99.9096</td>\n",
       "    </tr>\n",
       "    <tr>\n",
       "      <th>115</th>\n",
       "      <td>LC80420082013220LGN00</td>\n",
       "      <td>0.0000</td>\n",
       "      <td>99.6403</td>\n",
       "    </tr>\n",
       "  </tbody>\n",
       "</table>\n",
       "<p>116 rows × 3 columns</p>\n",
       "</div>"
      ],
      "text/plain": [
       "                                     Scene ID      F-1  Accuracy\n",
       "0    LC08_L1TP_066014_20160520_20170223_01_T1  99.9777   99.9754\n",
       "1                       LC81510262014139LGN00  99.9735   99.9641\n",
       "2                       LC81220422014096LGN00  99.9621   99.9485\n",
       "3                       LC80290292014132LGN00  99.9578   99.9411\n",
       "4                       LC80170312013157LGN00  99.9574   99.9405\n",
       "..                                        ...      ...       ...\n",
       "111                     LC81460162014168LGN00   0.0000   97.3611\n",
       "112                     LC80180082014215LGN00   0.0000   99.4191\n",
       "113                     LC80530022014156LGN00   0.0000   97.3932\n",
       "114                     LC81030162014107LGN00   0.0000   99.9096\n",
       "115                     LC80420082013220LGN00   0.0000   99.6403\n",
       "\n",
       "[116 rows x 3 columns]"
      ]
     },
     "execution_count": 6,
     "metadata": {},
     "output_type": "execute_result"
    }
   ],
   "source": [
    "sorted_df = df.sort_values(by='F-1', ascending=False)\n",
    "scene_ids = sorted_df[['Scene ID', 'F-1', 'Accuracy']]\n",
    "scene_ids.reset_index(drop=True, inplace=True)\n",
    "scene_ids"
   ]
  },
  {
   "cell_type": "code",
   "execution_count": 10,
   "metadata": {},
   "outputs": [
    {
     "name": "stdout",
     "output_type": "stream",
     "text": [
      "Processing band: blue\n"
     ]
    },
    {
     "name": "stderr",
     "output_type": "stream",
     "text": [
      "Combining pathes...: 9it [02:02, 13.58s/it]\n"
     ]
    },
    {
     "ename": "KeyboardInterrupt",
     "evalue": "",
     "output_type": "error",
     "traceback": [
      "\u001b[0;31m---------------------------------------------------------------------------\u001b[0m",
      "\u001b[0;31mKeyboardInterrupt\u001b[0m                         Traceback (most recent call last)",
      "\u001b[0;32m<ipython-input-10-f3cc735d87fc>\u001b[0m in \u001b[0;36m<module>\u001b[0;34m()\u001b[0m\n\u001b[1;32m     22\u001b[0m \u001b[0;34m\u001b[0m\u001b[0m\n\u001b[1;32m     23\u001b[0m         \u001b[0;31m# Reassemble patches to a single image\u001b[0m\u001b[0;34m\u001b[0m\u001b[0;34m\u001b[0m\u001b[0;34m\u001b[0m\u001b[0m\n\u001b[0;32m---> 24\u001b[0;31m         \u001b[0mreassemble_band_patches\u001b[0m\u001b[0;34m(\u001b[0m\u001b[0mpatches\u001b[0m\u001b[0;34m,\u001b[0m \u001b[0;36m384\u001b[0m\u001b[0;34m,\u001b[0m \u001b[0;36m384\u001b[0m\u001b[0;34m,\u001b[0m \u001b[0mgt\u001b[0m\u001b[0;34m.\u001b[0m\u001b[0msize\u001b[0m\u001b[0;34m,\u001b[0m \u001b[0;34mf'{target_dir}/full_{color}_{scene_id}.TIF'\u001b[0m\u001b[0;34m)\u001b[0m\u001b[0;34m\u001b[0m\u001b[0;34m\u001b[0m\u001b[0m\n\u001b[0m\u001b[1;32m     25\u001b[0m \u001b[0;34m\u001b[0m\u001b[0m\n\u001b[1;32m     26\u001b[0m     \u001b[0mprint\u001b[0m\u001b[0;34m(\u001b[0m\u001b[0;34mf\"Processed {total_pathes} patches.\"\u001b[0m\u001b[0;34m)\u001b[0m\u001b[0;34m\u001b[0m\u001b[0;34m\u001b[0m\u001b[0m\n",
      "\u001b[0;32m/mnt/netstore1_home/jakub.suran/Cloud-Net_pipeline/tiff_utils.py\u001b[0m in \u001b[0;36mreassemble_band_patches\u001b[0;34m(patch_paths, patch_width, patch_height, original_dims, output_tiff_path)\u001b[0m\n\u001b[1;32m    208\u001b[0m     \u001b[0mreassembled_img\u001b[0m \u001b[0;34m=\u001b[0m \u001b[0mreassembled_img\u001b[0m\u001b[0;34m.\u001b[0m\u001b[0mcrop\u001b[0m\u001b[0;34m(\u001b[0m\u001b[0;34m(\u001b[0m\u001b[0mleft\u001b[0m\u001b[0;34m,\u001b[0m \u001b[0mupper\u001b[0m\u001b[0;34m,\u001b[0m \u001b[0mright\u001b[0m\u001b[0;34m,\u001b[0m \u001b[0mlower\u001b[0m\u001b[0;34m)\u001b[0m\u001b[0;34m)\u001b[0m\u001b[0;34m\u001b[0m\u001b[0;34m\u001b[0m\u001b[0m\n\u001b[1;32m    209\u001b[0m     \u001b[0;31m# Save the reassembled image\u001b[0m\u001b[0;34m\u001b[0m\u001b[0;34m\u001b[0m\u001b[0;34m\u001b[0m\u001b[0m\n\u001b[0;32m--> 210\u001b[0;31m     \u001b[0mreassembled_img\u001b[0m\u001b[0;34m.\u001b[0m\u001b[0msave\u001b[0m\u001b[0;34m(\u001b[0m\u001b[0moutput_tiff_path\u001b[0m\u001b[0;34m)\u001b[0m\u001b[0;34m\u001b[0m\u001b[0;34m\u001b[0m\u001b[0m\n\u001b[0m\u001b[1;32m    211\u001b[0m \u001b[0;34m\u001b[0m\u001b[0m\n\u001b[1;32m    212\u001b[0m     \u001b[0;32mreturn\u001b[0m \u001b[0moutput_tiff_path\u001b[0m\u001b[0;34m\u001b[0m\u001b[0;34m\u001b[0m\u001b[0m\n",
      "\u001b[0;32m/apps/conda/jakub.suran/envs/Cloud-Net/lib/python3.6/site-packages/PIL/Image.py\u001b[0m in \u001b[0;36msave\u001b[0;34m(self, fp, format, **params)\u001b[0m\n\u001b[1;32m   2238\u001b[0m \u001b[0;34m\u001b[0m\u001b[0m\n\u001b[1;32m   2239\u001b[0m         \u001b[0;32mtry\u001b[0m\u001b[0;34m:\u001b[0m\u001b[0;34m\u001b[0m\u001b[0;34m\u001b[0m\u001b[0m\n\u001b[0;32m-> 2240\u001b[0;31m             \u001b[0msave_handler\u001b[0m\u001b[0;34m(\u001b[0m\u001b[0mself\u001b[0m\u001b[0;34m,\u001b[0m \u001b[0mfp\u001b[0m\u001b[0;34m,\u001b[0m \u001b[0mfilename\u001b[0m\u001b[0;34m)\u001b[0m\u001b[0;34m\u001b[0m\u001b[0;34m\u001b[0m\u001b[0m\n\u001b[0m\u001b[1;32m   2241\u001b[0m         \u001b[0;32mfinally\u001b[0m\u001b[0;34m:\u001b[0m\u001b[0;34m\u001b[0m\u001b[0;34m\u001b[0m\u001b[0m\n\u001b[1;32m   2242\u001b[0m             \u001b[0;31m# do what we can to clean up\u001b[0m\u001b[0;34m\u001b[0m\u001b[0;34m\u001b[0m\u001b[0;34m\u001b[0m\u001b[0m\n",
      "\u001b[0;32m/apps/conda/jakub.suran/envs/Cloud-Net/lib/python3.6/site-packages/PIL/TiffImagePlugin.py\u001b[0m in \u001b[0;36m_save\u001b[0;34m(im, fp, filename)\u001b[0m\n\u001b[1;32m   1757\u001b[0m \u001b[0;34m\u001b[0m\u001b[0m\n\u001b[1;32m   1758\u001b[0m         ImageFile._save(\n\u001b[0;32m-> 1759\u001b[0;31m             \u001b[0mim\u001b[0m\u001b[0;34m,\u001b[0m \u001b[0mfp\u001b[0m\u001b[0;34m,\u001b[0m \u001b[0;34m[\u001b[0m\u001b[0;34m(\u001b[0m\u001b[0;34m\"raw\"\u001b[0m\u001b[0;34m,\u001b[0m \u001b[0;34m(\u001b[0m\u001b[0;36m0\u001b[0m\u001b[0;34m,\u001b[0m \u001b[0;36m0\u001b[0m\u001b[0;34m)\u001b[0m \u001b[0;34m+\u001b[0m \u001b[0mim\u001b[0m\u001b[0;34m.\u001b[0m\u001b[0msize\u001b[0m\u001b[0;34m,\u001b[0m \u001b[0moffset\u001b[0m\u001b[0;34m,\u001b[0m \u001b[0;34m(\u001b[0m\u001b[0mrawmode\u001b[0m\u001b[0;34m,\u001b[0m \u001b[0mstride\u001b[0m\u001b[0;34m,\u001b[0m \u001b[0;36m1\u001b[0m\u001b[0;34m)\u001b[0m\u001b[0;34m)\u001b[0m\u001b[0;34m]\u001b[0m\u001b[0;34m\u001b[0m\u001b[0;34m\u001b[0m\u001b[0m\n\u001b[0m\u001b[1;32m   1760\u001b[0m         )\n\u001b[1;32m   1761\u001b[0m \u001b[0;34m\u001b[0m\u001b[0m\n",
      "\u001b[0;32m/apps/conda/jakub.suran/envs/Cloud-Net/lib/python3.6/site-packages/PIL/ImageFile.py\u001b[0m in \u001b[0;36m_save\u001b[0;34m(im, fp, tile, bufsize)\u001b[0m\n\u001b[1;32m    534\u001b[0m                 \u001b[0ml\u001b[0m\u001b[0;34m,\u001b[0m \u001b[0ms\u001b[0m \u001b[0;34m=\u001b[0m \u001b[0me\u001b[0m\u001b[0;34m.\u001b[0m\u001b[0mencode_to_pyfd\u001b[0m\u001b[0;34m(\u001b[0m\u001b[0;34m)\u001b[0m\u001b[0;34m\u001b[0m\u001b[0;34m\u001b[0m\u001b[0m\n\u001b[1;32m    535\u001b[0m             \u001b[0;32melse\u001b[0m\u001b[0;34m:\u001b[0m\u001b[0;34m\u001b[0m\u001b[0;34m\u001b[0m\u001b[0m\n\u001b[0;32m--> 536\u001b[0;31m                 \u001b[0ms\u001b[0m \u001b[0;34m=\u001b[0m \u001b[0me\u001b[0m\u001b[0;34m.\u001b[0m\u001b[0mencode_to_file\u001b[0m\u001b[0;34m(\u001b[0m\u001b[0mfh\u001b[0m\u001b[0;34m,\u001b[0m \u001b[0mbufsize\u001b[0m\u001b[0;34m)\u001b[0m\u001b[0;34m\u001b[0m\u001b[0;34m\u001b[0m\u001b[0m\n\u001b[0m\u001b[1;32m    537\u001b[0m             \u001b[0;32mif\u001b[0m \u001b[0ms\u001b[0m \u001b[0;34m<\u001b[0m \u001b[0;36m0\u001b[0m\u001b[0;34m:\u001b[0m\u001b[0;34m\u001b[0m\u001b[0;34m\u001b[0m\u001b[0m\n\u001b[1;32m    538\u001b[0m                 \u001b[0;32mraise\u001b[0m \u001b[0mOSError\u001b[0m\u001b[0;34m(\u001b[0m\u001b[0;34mf\"encoder error {s} when writing image file\"\u001b[0m\u001b[0;34m)\u001b[0m\u001b[0;34m\u001b[0m\u001b[0;34m\u001b[0m\u001b[0m\n",
      "\u001b[0;31mKeyboardInterrupt\u001b[0m: "
     ]
    }
   ],
   "source": [
    "from evaluation import get_patches_for_sceneid\n",
    "from tiff_utils import reassemble_band_patches\n",
    "\n",
    "root = '/home/jakub.suran/netstore1/Cloud-Net_evaluation/'\n",
    "gt_dir = os.path.join(root, 'Entire_scene_gts')\n",
    "colors = ['blue', 'green', 'red']\n",
    "\n",
    "for color in colors:\n",
    "    print(\"Processing band:\", color)\n",
    "    target_dir = os.path.join(root, f'full_scene_{color}')\n",
    "    if not os.path.exists(target_dir):\n",
    "        os.makedirs(target_dir)\n",
    "    patch_dir = os.path.join(root, f'test_{color}')\n",
    "    total_pathes = 0\n",
    "    # Loop through each scene ID to stitch patches\n",
    "    for _, (scene_id, f1, accuracy) in tqdm(scene_ids.iterrows(), \"Combining pathes...\"):\n",
    "        gt_path = os.path.join(gt_dir, f'edited_corrected_gts_{scene_id}.TIF')\n",
    "        gt = Image.open(gt_path)\n",
    "        \n",
    "        patches = get_patches_for_sceneid(patch_dir, scene_id)\n",
    "        total_pathes += len(patches)\n",
    "        \n",
    "        # Reassemble patches to a single image\n",
    "        reassemble_band_patches(patches, 384, 384, gt.size, f'{target_dir}/full_{color}_{scene_id}.TIF')\n",
    "\n",
    "    print(f\"Processed {total_pathes} patches.\")"
   ]
  }
 ],
 "metadata": {
  "kernelspec": {
   "display_name": "Cloud-Net",
   "language": "python",
   "name": "python3"
  },
  "language_info": {
   "codemirror_mode": {
    "name": "ipython",
    "version": 3
   },
   "file_extension": ".py",
   "mimetype": "text/x-python",
   "name": "python",
   "nbconvert_exporter": "python",
   "pygments_lexer": "ipython3",
   "version": "3.6.15"
  }
 },
 "nbformat": 4,
 "nbformat_minor": 2
}
